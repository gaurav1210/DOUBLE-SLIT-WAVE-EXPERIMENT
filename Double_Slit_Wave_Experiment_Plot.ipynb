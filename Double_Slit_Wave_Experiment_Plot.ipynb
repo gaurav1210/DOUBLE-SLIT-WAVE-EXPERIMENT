{
  "nbformat": 4,
  "nbformat_minor": 0,
  "metadata": {
    "colab": {
      "private_outputs": true,
      "provenance": []
    },
    "kernelspec": {
      "name": "python3",
      "display_name": "Python 3"
    },
    "language_info": {
      "name": "python"
    }
  },
  "cells": [
    {
      "cell_type": "code",
      "execution_count": null,
      "metadata": {
        "id": "nDKXeXa5wgAQ"
      },
      "outputs": [],
      "source": [
        "import numpy as np\n",
        "import matplotlib.pyplot as plt\n",
        "\n",
        "# Parameters\n",
        "d = 0.1e-3  # Distance between slits (0.1 mm)\n",
        "lambda_ = 500e-9  # Wavelength of light (500 nm)\n",
        "L = 1  # Distance to screen (1 m)\n",
        "I0 = 1  # Intensity from a single slit (arbitrary units)\n",
        "\n",
        "# Position on the screen\n",
        "y = np.linspace(-0.01, 0.01, 1000)  # Screen positions from -1 cm to +1 cm\n",
        "\n",
        "# Intensity formula\n",
        "I = 4 * I0 * np.cos(np.pi * d * y / (lambda_ * L))**2\n",
        "\n",
        "# Plotting\n",
        "plt.figure(figsize=(10, 6))\n",
        "plt.plot(y, I, label=\"Double-Slit Interference Pattern\")\n",
        "plt.title(\"Intensity Profile for Double-Slit Interference\")\n",
        "plt.xlabel(\"Position on Screen (m)\")\n",
        "plt.ylabel(\"Intensity (arbitrary units)\")\n",
        "plt.grid(True)\n",
        "plt.legend()\n",
        "plt.show()"
      ]
    },
    {
      "cell_type": "code",
      "source": [
        "import numpy as np\n",
        "import matplotlib.pyplot as plt\n",
        "\n",
        "# Define constants\n",
        "I0 = 1  # Maximum intensity (normalized)\n",
        "wavelength = 500e-9  # Wavelength in meters (500 nm)\n",
        "slit_width = 20e-6   # Slit width (20 micrometers)\n",
        "slit_distance = 100e-6  # Distance between slits (100 micrometers)\n",
        "\n",
        "# Define angular range\n",
        "theta = np.linspace(-np.pi/6, np.pi/6, 1000)  # Angle in radians\n",
        "\n",
        "# Compute the interference and diffraction components\n",
        "alpha = (np.pi * slit_distance * np.sin(theta)) / wavelength  # Interference term\n",
        "beta = (np.pi * slit_width * np.sin(theta)) / wavelength  # Diffraction term\n",
        "\n",
        "# Full intensity formula\n",
        "intensity = I0 * (np.cos(alpha) ** 2) * ((np.sinc(beta / np.pi)) ** 2)\n",
        "\n",
        "# Plot the intensity profile\n",
        "plt.figure(figsize=(8, 5))\n",
        "plt.plot(theta * (180/np.pi), intensity, color='r', label=\"Double-Slit Intensity\")\n",
        "plt.xlabel(\"Angle (degrees)\")\n",
        "plt.ylabel(\"Normalized Intensity\")\n",
        "plt.title(\"Double-Slit Intensity Profile (Wave Optics)\")\n",
        "plt.legend()\n",
        "plt.grid(True)\n",
        "plt.show()\n"
      ],
      "metadata": {
        "id": "pI7AjIAhxewU"
      },
      "execution_count": null,
      "outputs": []
    },
    {
      "cell_type": "code",
      "source": [
        "import numpy as np\n",
        "import matplotlib.pyplot as plt\n",
        "\n",
        "# Step 1: Define Constants\n",
        "I0 = 1  # Normalized max intensity\n",
        "wavelength = 500e-9  # 500 nm (Visible Light)\n",
        "slit_width = 20e-6   # 20 µm\n",
        "slit_distance = 100e-6  # 100 µm\n",
        "\n",
        "# Step 2: Define Angular Range\n",
        "theta = np.linspace(-30, 30, 1000)  # Angle in degrees\n",
        "theta_rad = np.radians(theta)  # Convert to radians for calculations\n",
        "\n",
        "# Step 3: Compute Interference and Diffraction Terms\n",
        "alpha = (np.pi * slit_distance * np.sin(theta_rad)) / wavelength  # Interference\n",
        "beta = (np.pi * slit_width * np.sin(theta_rad)) / wavelength  # Diffraction\n",
        "\n",
        "# Step 4: Compute Intensity Profile\n",
        "interference = np.cos(alpha) ** 2  # Interference pattern\n",
        "diffraction = (np.sinc(beta / np.pi)) ** 2  # Single-slit diffraction\n",
        "\n",
        "# Step 5: Multiply Interference and Diffraction to Get Final Intensity\n",
        "intensity = I0 * interference * diffraction\n",
        "\n",
        "# Step 6: Plot the Intensity Profile\n",
        "plt.figure(figsize=(8, 5))\n",
        "plt.plot(theta, intensity, color='r', label=\"Double-Slit Intensity\")\n",
        "plt.xlabel(\"Angle (degrees)\")\n",
        "plt.ylabel(\"Normalized Intensity\")\n",
        "plt.title(\"Correct Double-Slit Intensity Profile (Wave Optics)\")\n",
        "plt.legend()\n",
        "plt.grid(True)\n",
        "plt.show()\n"
      ],
      "metadata": {
        "id": "yz9HFnGV24Yx"
      },
      "execution_count": null,
      "outputs": []
    }
  ]
}